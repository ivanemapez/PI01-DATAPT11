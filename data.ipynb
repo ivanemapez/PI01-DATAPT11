{
 "cells": [
  {
   "cell_type": "markdown",
   "metadata": {},
   "source": [
    "LIMPIEZA DE DATOS"
   ]
  },
  {
   "cell_type": "code",
   "execution_count": 1,
   "metadata": {},
   "outputs": [],
   "source": [
    "import numpy as np \n",
    "import pandas as pd\n",
    "import json \n",
    "import ast"
   ]
  },
  {
   "cell_type": "code",
   "execution_count": null,
   "metadata": {},
   "outputs": [],
   "source": [
    "# Carga los data\n",
    "df = pd.read_csv('movies_dataset.csv')"
   ]
  },
  {
   "cell_type": "code",
   "execution_count": 3,
   "metadata": {},
   "outputs": [],
   "source": [
    "\n",
    "#  Desanidar los campos 'belongs_to_collection' y 'production_companies'\n",
    "df['belongs_to_collection'] = df['belongs_to_collection'].apply(lambda x: x['name'] if isinstance(x, dict) else np.nan)\n",
    "df['production_companies'] = df['production_companies'].apply(lambda x: ', '.join([d['name'] for d in x]) if isinstance(x, list) else np.nan)"
   ]
  },
  {
   "cell_type": "code",
   "execution_count": 4,
   "metadata": {},
   "outputs": [],
   "source": [
    "\n",
    "# Rellenar los nulos en 'revenue' y 'budget' con 0\n",
    "df['revenue'] = df['revenue'].fillna(0)\n",
    "df['budget'] = df['budget'].fillna(0)"
   ]
  },
  {
   "cell_type": "code",
   "execution_count": 5,
   "metadata": {},
   "outputs": [],
   "source": [
    "\n",
    "# Elimina valores nulos en 'release_date'\n",
    "df.dropna(subset=['release_date'], inplace=True)"
   ]
  },
  {
   "cell_type": "code",
   "execution_count": 6,
   "metadata": {},
   "outputs": [],
   "source": [
    "# Formatea fechas y crear la columna 'release_year'\n",
    "df['release_date'] = pd.to_datetime(df['release_date'], errors='coerce').dt.strftime('%Y-%m-%d')\n",
    "df['release_year'] = pd.to_datetime(df['release_date'], errors='coerce').dt.year"
   ]
  },
  {
   "cell_type": "code",
   "execution_count": 7,
   "metadata": {},
   "outputs": [],
   "source": [
    "# crea la columna 'return'\n",
    "\n",
    "# Converti 'revenue' y 'budget' a valores numéricos, forzando los valores no numéricos a NaN\n",
    "df['revenue'] = pd.to_numeric(df['revenue'], errors='coerce')\n",
    "df['budget'] = pd.to_numeric(df['budget'], errors='coerce')\n",
    "\n",
    "# Rellene valores nulos con 0\n",
    "df['revenue'] = df['revenue'].fillna(0)\n",
    "df['budget'] = df['budget'].fillna(0)\n",
    "\n",
    "\n",
    "# Creo la columna 'return'\n",
    "df['return'] = df.apply(lambda row: row['revenue'] / row['budget'] if row['budget'] > 0 else 0, axis=1)\n"
   ]
  },
  {
   "cell_type": "code",
   "execution_count": null,
   "metadata": {},
   "outputs": [],
   "source": [
    "# Elimine las columnas no utilizadas\n",
    "df.drop(columns=['video', 'imdb_id', 'adult', 'original_title', 'poster_path', 'homepage', 'original_language', 'production_countries' , 'spoken_languages', 'runtime'], inplace=True)\n"
   ]
  },
  {
   "cell_type": "code",
   "execution_count": 9,
   "metadata": {},
   "outputs": [],
   "source": [
    "# desanida belongs_to_collection\n",
    "df['belongs_to_collection'] = df['belongs_to_collection'].apply(lambda x: x['name'] if isinstance(x, dict) else np.nan)\n",
    "\n",
    "# Desanidar production_companies\n",
    "df['production_companies'] = df['production_companies'].apply(lambda x: ', '.join([d['name'] for d in x]) if isinstance(x, list) else np.nan)\n"
   ]
  },
  {
   "cell_type": "code",
   "execution_count": 10,
   "metadata": {},
   "outputs": [],
   "source": [
    "\n",
    "df['collection_name'] = df['belongs_to_collection'].apply(lambda x: x['name'] if isinstance(x, dict) else np.nan)\n",
    "\n",
    "df['production_companies_names'] = df['production_companies'].apply(lambda x: ', '.join([d['name'] for d in x]) if isinstance(x, list) else np.nan)\n"
   ]
  },
  {
   "cell_type": "code",
   "execution_count": 11,
   "metadata": {},
   "outputs": [],
   "source": [
    "# Asegúrate de que la columna 'release_date' está en formato de fecha\n",
    "df['release_date'] = pd.to_datetime(df['release_date'], errors='coerce')\n",
    "\n",
    "# Filtra el DataFrame para conservar solo los datos a partir de 1990\n",
    "df = df[df['release_date'].dt.year >= 1990].reset_index(drop=True)\n"
   ]
  },
  {
   "cell_type": "code",
   "execution_count": 12,
   "metadata": {},
   "outputs": [
    {
     "name": "stdout",
     "output_type": "stream",
     "text": [
      "Cantidad de datos después de 1994: 27889\n"
     ]
    }
   ],
   "source": [
    "# # Verificamos formato de fecha\n",
    "df['release_date'] = pd.to_datetime(df['release_date'], errors='coerce')\n",
    "\n",
    "df = df[df['release_date'].dt.year >= 1994].reset_index(drop=True)\n",
    "\n",
    "# Opcional: imprime la cantidad de datos para verificar\n",
    "print(f\"Cantidad de datos después de 1994: {len(df)}\")\n"
   ]
  },
  {
   "cell_type": "code",
   "execution_count": 13,
   "metadata": {},
   "outputs": [],
   "source": [
    "credits= pd.read_csv('credits.csv')"
   ]
  },
  {
   "cell_type": "code",
   "execution_count": 14,
   "metadata": {},
   "outputs": [],
   "source": [
    "# Extraer solo los nombres de los actores en la columna 'cast'\n",
    "credits['cast'] = credits['cast'].apply(\n",
    "    lambda x: [actor['name'] for actor in ast.literal_eval(x) if 'name' in actor] if isinstance(x, str) else []\n",
    ")\n",
    "\n",
    "# Guardar el dataset actualizado\n",
    "credits.to_csv('movies_transformed.csv', index=False)\n"
   ]
  },
  {
   "cell_type": "code",
   "execution_count": 15,
   "metadata": {},
   "outputs": [],
   "source": [
    "# Extraer solo los nombres de los directores en la columna 'crew'\n",
    "credits['crew'] = credits['crew'].apply(\n",
    "    lambda x: [director['name'] for director in ast.literal_eval(x) if 'name' in director] if isinstance(x, str) else []\n",
    ")\n",
    "\n",
    "\n",
    "credits.to_csv('movies_transformed.csv', index=False)"
   ]
  },
  {
   "cell_type": "code",
   "execution_count": 21,
   "metadata": {},
   "outputs": [],
   "source": [
    "#unimos credits y movies para hacer los endpoint de actores y directores\n",
    "movies_transformed = pd.read_csv(\"movies_transformed.csv\")\n",
    "movies_dataset_transformed = pd.read_csv(\"movies_dataset_transformed.csv\")\n",
    "\n",
    "movies_transformed['id'] = movies_transformed['id'].astype(str)\n",
    "movies_dataset_transformed['id'] = movies_dataset_transformed['id'].astype(str)\n",
    "\n",
    "# usamos inner join para mantener solo los id que coinciden\n",
    "merged_data = movies_transformed.merge(movies_dataset_transformed, on=\"id\", how=\"inner\")\n",
    "\n",
    "merged_data.to_csv(\"movies_completo.csv\", index=False)"
   ]
  },
  {
   "cell_type": "code",
   "execution_count": null,
   "metadata": {},
   "outputs": [],
   "source": [
    "merged_data.drop(columns=['original_language', 'production_countries' , 'spoken_languages', 'runtime'], inplace=True)"
   ]
  },
  {
   "cell_type": "code",
   "execution_count": 27,
   "metadata": {},
   "outputs": [],
   "source": [
    "merged_data.drop(columns=['status', 'tagline' , 'production_companies_names'], inplace=True)"
   ]
  },
  {
   "cell_type": "code",
   "execution_count": 29,
   "metadata": {},
   "outputs": [],
   "source": [
    "merged_data.drop(columns=['collection_name'], inplace=True)"
   ]
  },
  {
   "cell_type": "code",
   "execution_count": null,
   "metadata": {},
   "outputs": [],
   "source": [
    "# Convertir la columna 'release_date' a formato datetime\n",
    "merged_data['release_date'] = pd.to_datetime(merged_data['release_date'], errors='coerce')\n",
    "\n",
    "# Filtrar películas entre los años 1994 y 2012\n",
    "merged_data = merged_data[(merged_data['release_date'].dt.year >= 1994) & \n",
    "                          (merged_data['release_date'].dt.year <= 2012)].reset_index(drop=True)\n",
    "\n",
    "# Imprimir la cantidad de datos después del filtrado\n",
    "print(f\"Cantidad de datos después del filtrado por rango de años: {len(merged_data)}\")\n"
   ]
  },
  {
   "cell_type": "code",
   "execution_count": 32,
   "metadata": {},
   "outputs": [],
   "source": [
    "merged_data.to_csv(\"movies_completo.csv\", index=False)"
   ]
  }
 ],
 "metadata": {
  "kernelspec": {
   "display_name": "Python 3",
   "language": "python",
   "name": "python3"
  },
  "language_info": {
   "codemirror_mode": {
    "name": "ipython",
    "version": 3
   },
   "file_extension": ".py",
   "mimetype": "text/x-python",
   "name": "python",
   "nbconvert_exporter": "python",
   "pygments_lexer": "ipython3",
   "version": "3.11.9"
  }
 },
 "nbformat": 4,
 "nbformat_minor": 2
}
